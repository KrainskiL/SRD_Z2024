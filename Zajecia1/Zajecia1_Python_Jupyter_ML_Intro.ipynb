{
 "cells": [
  {
   "cell_type": "markdown",
   "metadata": {},
   "source": [
    "# Intro to Python and Jupyter"
   ]
  },
  {
   "cell_type": "markdown",
   "metadata": {},
   "source": [
    "## 1. Quick Jupyter Notebook guide"
   ]
  },
  {
   "cell_type": "markdown",
   "metadata": {},
   "source": [
    "Use **Arrow keys** to move up and down\n",
    "***"
   ]
  },
  {
   "cell_type": "markdown",
   "metadata": {},
   "source": [
    "Use **Enter** to activate cell and **ESC** to deactivate it\n",
    "***"
   ]
  },
  {
   "cell_type": "markdown",
   "metadata": {
    "raw_mimetype": "text/latex"
   },
   "source": [
    "Use **CTRL+Enter** to execute cell (interpret Markdown or Python code)\n",
    "***"
   ]
  },
  {
   "cell_type": "markdown",
   "metadata": {},
   "source": [
    "While cell is deactivated (you are in Command mode) use **M** to turn cell into Markdown or **Y** to switch to Python\n",
    "___"
   ]
  },
  {
   "cell_type": "markdown",
   "metadata": {},
   "source": [
    "**a** adds cell above and **b** adds cell below (**ALT+Enter** execute and insert below)\n",
    "___"
   ]
  },
  {
   "cell_type": "markdown",
   "metadata": {},
   "source": [
    "Delete cell using **dd**\n",
    "___"
   ]
  },
  {
   "cell_type": "markdown",
   "metadata": {},
   "source": [
    "More shortcuts will pop up after pressing **H**"
   ]
  },
  {
   "cell_type": "markdown",
   "metadata": {},
   "source": [
    "## 2. Markdown guide"
   ]
  },
  {
   "cell_type": "markdown",
   "metadata": {},
   "source": [
    "[Markdown Cheatsheet](https://github.com/adam-p/markdown-here/wiki/Markdown-Cheatsheet)"
   ]
  },
  {
   "cell_type": "markdown",
   "metadata": {},
   "source": [
    "## 3. Python intro"
   ]
  },
  {
   "cell_type": "markdown",
   "metadata": {},
   "source": [
    "### 3.1. IPython"
   ]
  },
  {
   "cell_type": "markdown",
   "metadata": {},
   "source": [
    "**Getting help**"
   ]
  },
  {
   "cell_type": "code",
   "execution_count": null,
   "metadata": {
    "scrolled": false
   },
   "outputs": [],
   "source": [
    "help(len)"
   ]
  },
  {
   "cell_type": "code",
   "execution_count": null,
   "metadata": {},
   "outputs": [],
   "source": [
    "len.__doc__"
   ]
  },
  {
   "cell_type": "code",
   "execution_count": null,
   "metadata": {},
   "outputs": [],
   "source": [
    "#IPython extended help function\n",
    "?len"
   ]
  },
  {
   "cell_type": "code",
   "execution_count": null,
   "metadata": {},
   "outputs": [],
   "source": [
    "L=[1,2,3]\n",
    "L.insert?"
   ]
  },
  {
   "cell_type": "code",
   "execution_count": null,
   "metadata": {},
   "outputs": [],
   "source": [
    "def square(a):\n",
    "    \"\"\"Return the square of a.\"\"\"\n",
    "    return a**2"
   ]
  },
  {
   "cell_type": "code",
   "execution_count": null,
   "metadata": {},
   "outputs": [],
   "source": [
    "#Access source code\n",
    "square??"
   ]
  },
  {
   "cell_type": "markdown",
   "metadata": {},
   "source": [
    "**Magic functions**"
   ]
  },
  {
   "cell_type": "code",
   "execution_count": null,
   "metadata": {},
   "outputs": [],
   "source": [
    "#Measure average exec time\n",
    "%timeit L = [n ** 2 for n in range(1000)]"
   ]
  },
  {
   "cell_type": "code",
   "execution_count": null,
   "metadata": {},
   "outputs": [],
   "source": [
    "#Help on magic functions\n",
    "%magic"
   ]
  },
  {
   "cell_type": "code",
   "execution_count": null,
   "metadata": {},
   "outputs": [],
   "source": [
    "%lsmagic"
   ]
  },
  {
   "cell_type": "code",
   "execution_count": null,
   "metadata": {},
   "outputs": [],
   "source": [
    "%%latex\n",
    "$$x_i=\\sum^N_{i=1}{e^i}$$"
   ]
  },
  {
   "cell_type": "markdown",
   "metadata": {},
   "source": [
    "**Shell functions**"
   ]
  },
  {
   "cell_type": "code",
   "execution_count": null,
   "metadata": {},
   "outputs": [],
   "source": [
    "%pwd"
   ]
  },
  {
   "cell_type": "code",
   "execution_count": null,
   "metadata": {},
   "outputs": [],
   "source": [
    "%cd ..\n",
    "%cd -"
   ]
  },
  {
   "cell_type": "code",
   "execution_count": null,
   "metadata": {},
   "outputs": [],
   "source": [
    "# ls - list\n",
    "# cp - copy e.g. cp file1.csv folder/.\n",
    "# mkdir - make directory e.g. mkdir results\n",
    "# rm - remove file (or directory) e.g. rm python.py, rm -r folder"
   ]
  },
  {
   "cell_type": "code",
   "execution_count": null,
   "metadata": {},
   "outputs": [],
   "source": [
    "!git"
   ]
  },
  {
   "cell_type": "code",
   "execution_count": null,
   "metadata": {},
   "outputs": [],
   "source": [
    "!curl --help"
   ]
  },
  {
   "cell_type": "markdown",
   "metadata": {},
   "source": [
    "### 3.2. ML in Python"
   ]
  },
  {
   "cell_type": "markdown",
   "metadata": {},
   "source": [
    "#### Python resources\n",
    "Official tutorial\n",
    "\n",
    "https://docs.python.org/3/tutorial/\n",
    "\n",
    "'Think' Series by Allen B. Downey\n",
    "\n",
    "https://greenteapress.com/wp/think-python-2e/\n",
    "\n",
    "\n",
    "Free programming books on GoalKicker:\n",
    "\n",
    "https://goalkicker.com/PythonBook/\n",
    "\n",
    "Online courses: Datacamp, Coursera, CodeAcademy"
   ]
  },
  {
   "cell_type": "markdown",
   "metadata": {},
   "source": [
    "**Data Science and ML in Python**\n",
    "\n",
    "Scikit-learn documentation\n",
    "\n",
    "https://scikit-learn.org/stable/\n",
    "\n",
    "Seaborn documentation\n",
    "\n",
    "https://seaborn.pydata.org/\n",
    "\n",
    "Python Data Science Handbook\n",
    "\n",
    "https://jakevdp.github.io/PythonDataScienceHandbook/\n",
    "\n",
    "Medium platform blogs (e.g. Towards Data Science)"
   ]
  },
  {
   "cell_type": "markdown",
   "metadata": {},
   "source": [
    "**Modules for Data Science in Python**\n",
    "\n",
    "**Numpy** - provides numerical data structures and required utilities (linear algebra tool) https://numpy.org/\n",
    "\n",
    "**Pandas** - Python DataFrames + reading/writing datasets https://pandas.pydata.org/\n",
    "\n",
    "**Matplotlib/Seaborn** - plotting, data visualization https://matplotlib.org/\n",
    "\n",
    "**Scikit-learn** - ML models, evaluation metrics, preprocessing"
   ]
  },
  {
   "cell_type": "markdown",
   "metadata": {},
   "source": [
    "Data Science/ML process:\n",
    "- Gather data\n",
    "- Explore and visualize the data (for cleaning and preprocessing purposes)\n",
    "- Prepare the data\n",
    "- Explore and visualize the clean data (for gathering insight, preparing for modelling process)\n",
    "- Train the ML models\n",
    "- Validate and assess ML models"
   ]
  },
  {
   "cell_type": "markdown",
   "metadata": {},
   "source": [
    "**'Production' ML project lifecycle (from \"ML Engineering\" by Andriy Burkov)**\n",
    "![](./ML_Project_Cycle.PNG)"
   ]
  },
  {
   "cell_type": "code",
   "execution_count": null,
   "metadata": {},
   "outputs": [],
   "source": [
    "import pandas as pd\n",
    "from sklearn.model_selection import train_test_split\n",
    "import random"
   ]
  },
  {
   "cell_type": "code",
   "execution_count": null,
   "metadata": {},
   "outputs": [],
   "source": [
    "DATA_SET = pd.read_fwf(\n",
    "    \"http://archive.ics.uci.edu/ml/machine-learning-databases/statlog/german/german.data-numeric\",\n",
    "    header=None,\n",
    ")\n",
    "DATA_SET.rename(columns={24: \"target\"}, inplace=True)\n",
    "DATA_SET[\"target\"] = DATA_SET[\"target\"] - 1  # recoding target variable"
   ]
  },
  {
   "cell_type": "code",
   "execution_count": null,
   "metadata": {},
   "outputs": [],
   "source": [
    "%%timeit\n",
    "#One-time version\n",
    "#random 80% of indexes values\n",
    "rand = random.sample(range(0,len(DATA_SET)-1),int(0.8*len(DATA_SET)))\n",
    "train = DATA_SET.iloc[rand]\n",
    "val = DATA_SET.drop(rand)"
   ]
  },
  {
   "cell_type": "code",
   "execution_count": null,
   "metadata": {},
   "outputs": [],
   "source": [
    "# Reuseable function\n",
    "def split_data_set(dataset, training_fraction):\n",
    "    n = len(dataset)\n",
    "    rand = random.sample(range(0, n - 1), int(training_fraction * n))\n",
    "    train = dataset.iloc[rand]\n",
    "    val = dataset.drop(rand)\n",
    "    return train, val"
   ]
  },
  {
   "cell_type": "code",
   "execution_count": null,
   "metadata": {},
   "outputs": [],
   "source": [
    "%timeit train_set, val_set = split_data_set(DATA_SET, 0.7)"
   ]
  },
  {
   "cell_type": "code",
   "execution_count": null,
   "metadata": {},
   "outputs": [],
   "source": [
    "#Or use function from imported package - train_test_split() from sklearn\n",
    "X = DATA_SET.drop(['target'],axis=1)\n",
    "y = DATA_SET['target']\n",
    "%timeit X_train, X_test, y_train, y_test = train_test_split(X,y,test_size = 0.3, random_state = 1)"
   ]
  },
  {
   "cell_type": "markdown",
   "metadata": {},
   "source": [
    "Splitting data into training and validation set is done to avoid overfitting and to assess performance in more realistic situation (model will predict outcome on data it has never seen before).\n",
    "\n",
    "[Related to Bias vs. Variance Tradeoff (Underfitting vs. Overfitting)](https://jakevdp.github.io/PythonDataScienceHandbook/05.03-hyperparameters-and-model-validation.html#The-Bias-variance-trade-off)\n",
    "\n",
    "![](https://jakevdp.github.io/PythonDataScienceHandbook/figures/05.03-validation-curve.png)"
   ]
  },
  {
   "cell_type": "code",
   "execution_count": null,
   "metadata": {},
   "outputs": [],
   "source": [
    "import numpy as np\n",
    "import matplotlib.pyplot as plt\n",
    "import random\n",
    "from sklearn.preprocessing import PolynomialFeatures\n",
    "from sklearn.linear_model import LinearRegression\n",
    "from sklearn.pipeline import make_pipeline"
   ]
  },
  {
   "cell_type": "code",
   "execution_count": null,
   "metadata": {},
   "outputs": [],
   "source": [
    "def PolynomialReg(X, y, degree=2):\n",
    "    return make_pipeline(PolynomialFeatures(degree), LinearRegression()).fit(\n",
    "        X.reshape(-1, 1), y\n",
    "    )"
   ]
  },
  {
   "cell_type": "code",
   "execution_count": null,
   "metadata": {},
   "outputs": [],
   "source": [
    "def true_process_with_noise(x: np.array, seed: int = 123) -> float:\n",
    "    np.random.seed(seed)\n",
    "    return 2 * np.log(x) + 0.4 * np.random.normal(size=x.size) + 2"
   ]
  },
  {
   "cell_type": "code",
   "execution_count": null,
   "metadata": {},
   "outputs": [],
   "source": [
    "n = 40\n",
    "random.seed(24)\n",
    "test = random.sample(range(n), int(n * 0.2))\n",
    "mask = np.ones(n, bool)\n",
    "mask[test] = False"
   ]
  },
  {
   "cell_type": "code",
   "execution_count": null,
   "metadata": {},
   "outputs": [],
   "source": [
    "x = np.linspace(2, 10, n)\n",
    "random.seed(42)\n",
    "y = true_process_with_noise(x)\n",
    "X_train = x[mask]\n",
    "y_train = y[mask]\n",
    "X_test = x[~mask]\n",
    "y_test = y[~mask]"
   ]
  },
  {
   "cell_type": "code",
   "execution_count": null,
   "metadata": {},
   "outputs": [],
   "source": [
    "plt.plot(X_train, y_train, \"o\")\n",
    "plt.plot(X_test, y_test, \"go\")"
   ]
  },
  {
   "cell_type": "code",
   "execution_count": null,
   "metadata": {},
   "outputs": [],
   "source": [
    "# Train polynomial regression with degree 1 and 20\n",
    "model1 = PolynomialReg(X_train, y_train, 1)\n",
    "model20 = PolynomialReg(X_train, y_train, 20)\n",
    "# Predict values on train and test data\n",
    "pred_train1 = model1.predict(X_train.reshape(-1, 1))\n",
    "pred_train20 = model20.predict(X_train.reshape(-1, 1))\n",
    "pred_test1 = model1.predict(X_test.reshape(-1, 1))\n",
    "pred_test20 = model20.predict(X_test.reshape(-1, 1))"
   ]
  },
  {
   "cell_type": "code",
   "execution_count": null,
   "metadata": {},
   "outputs": [],
   "source": [
    "# Training data\n",
    "fig, ax = plt.subplots(1, 2, figsize=(16, 4))\n",
    "ax[0].plot(X_train, y_train, \"o\")\n",
    "ax[0].plot(X_train, pred_train1)\n",
    "ax[0].set_title(\"Degree 1\")\n",
    "ax[1].plot(X_train, y_train, \"o\")\n",
    "ax[1].plot(X_train, pred_train20)\n",
    "ax[1].set_title(\"Degree 20\")"
   ]
  },
  {
   "cell_type": "code",
   "execution_count": null,
   "metadata": {},
   "outputs": [],
   "source": [
    "# Test data\n",
    "fig, ax = plt.subplots(1, 2, figsize=(16, 4))\n",
    "ax[0].plot(X_test, y_test, \"o\")\n",
    "ax[0].plot(X_test, pred_test1)\n",
    "ax[0].plot(X_test, [np.mean(y_test)] * X_test.size, \"k--\")\n",
    "ax[0].set_title(\"Degree 1\")\n",
    "ax[1].plot(X_test, y_test, \"o\")\n",
    "ax[1].plot(X_test, [np.mean(y_test)] * X_test.size, \"k--\")\n",
    "ax[1].plot(X_test, pred_test20)\n",
    "ax[1].set_title(\"Degree 20\")"
   ]
  },
  {
   "cell_type": "code",
   "execution_count": null,
   "metadata": {},
   "outputs": [],
   "source": [
    "def R_squared(y_pred, y_true):\n",
    "    y_mean = np.mean(y_true)\n",
    "    ssres = (y_true - y_pred) ** 2\n",
    "    sstot = (y_true - y_mean) ** 2\n",
    "    r_square = 1 - (sum(ssres) / sum(sstot))\n",
    "    return str(round(r_square * 100, 1)) + \"%\""
   ]
  },
  {
   "cell_type": "code",
   "execution_count": null,
   "metadata": {},
   "outputs": [],
   "source": [
    "print(\"R^2 degree 1 on training data:\", R_squared(pred_train1, y_train))\n",
    "print(\"R^2 degree 20 on training data:\", R_squared(pred_train20, y_train))\n",
    "print(\"R^2 degree 1 on test data:\", R_squared(pred_test1, y_test))\n",
    "print(\"R^2 degree 20 on test data:\", R_squared(pred_test20, y_test))"
   ]
  },
  {
   "cell_type": "markdown",
   "metadata": {},
   "source": [
    "Handling overfitting:\n",
    "- Gather more records (rows)\n",
    "- Gather/produce more features (columns)\n",
    "- Use less powerful/elastic/flexible model\n",
    "- Use special data preparation or training techniques (balancing data, cross-validation)\n",
    "- **Use regularization techniques**"
   ]
  }
 ],
 "metadata": {
  "celltoolbar": "Raw Cell Format",
  "kernelspec": {
   "display_name": "Python 3 (ipykernel)",
   "language": "python",
   "name": "python3"
  },
  "language_info": {
   "codemirror_mode": {
    "name": "ipython",
    "version": 3
   },
   "file_extension": ".py",
   "mimetype": "text/x-python",
   "name": "python",
   "nbconvert_exporter": "python",
   "pygments_lexer": "ipython3",
   "version": "3.8.9"
  }
 },
 "nbformat": 4,
 "nbformat_minor": 2
}
