{
 "cells": [
  {
   "cell_type": "markdown",
   "id": "72f7e77a",
   "metadata": {},
   "source": [
    "# Class 3 - Regularization and cross-validation"
   ]
  },
  {
   "cell_type": "code",
   "execution_count": null,
   "id": "b1a736a5",
   "metadata": {},
   "outputs": [],
   "source": [
    "# %%capture\n",
    "# !pip install matplotlib numpy pandas seaborn scikit-learn tqdm"
   ]
  },
  {
   "cell_type": "code",
   "execution_count": null,
   "id": "4fd2e722",
   "metadata": {},
   "outputs": [],
   "source": [
    "from functools import partial\n",
    "\n",
    "import matplotlib.pyplot as plt\n",
    "import numpy as np\n",
    "import pandas as pd\n",
    "import seaborn as sns\n",
    "from sklearn.linear_model import LogisticRegression as LR\n",
    "from sklearn.metrics import classification_report, confusion_matrix, roc_auc_score\n",
    "from sklearn.model_selection import cross_val_score, train_test_split\n",
    "from sklearn.preprocessing import OneHotEncoder\n",
    "from sklearn.svm import SVC\n",
    "from tqdm import tqdm"
   ]
  },
  {
   "cell_type": "code",
   "execution_count": null,
   "id": "6f836caa",
   "metadata": {},
   "outputs": [],
   "source": [
    "tqdm = partial(tqdm, position=0, leave=True)"
   ]
  },
  {
   "cell_type": "code",
   "execution_count": null,
   "id": "98f3e46d",
   "metadata": {},
   "outputs": [],
   "source": [
    "plt.style.use(\"bmh\")"
   ]
  },
  {
   "cell_type": "markdown",
   "id": "5302735f",
   "metadata": {},
   "source": [
    "## Dataset - preparation and One-Hot Encoding"
   ]
  },
  {
   "cell_type": "code",
   "execution_count": null,
   "id": "ef3cfa52",
   "metadata": {},
   "outputs": [],
   "source": [
    "# Titanic dataset - information about passangers with indication of survival\n",
    "# Task: binary classification of target column Survived\n",
    "dataset = pd.read_csv(\n",
    "    \"https://web.stanford.edu/class/archive/cs/cs109/cs109.1166/stuff/titanic.csv\",\n",
    "    sep=\",\",\n",
    "    header=0,\n",
    ")"
   ]
  },
  {
   "cell_type": "markdown",
   "id": "de9f4344",
   "metadata": {},
   "source": [
    "**Dataset exploration**"
   ]
  },
  {
   "cell_type": "code",
   "execution_count": null,
   "id": "66c6d736",
   "metadata": {},
   "outputs": [],
   "source": [
    "dataset.isna().sum()"
   ]
  },
  {
   "cell_type": "code",
   "execution_count": null,
   "id": "23082472",
   "metadata": {},
   "outputs": [],
   "source": [
    "dataset.describe()"
   ]
  },
  {
   "cell_type": "code",
   "execution_count": null,
   "id": "34f380af",
   "metadata": {},
   "outputs": [],
   "source": [
    "dataset.describe(include=[\"O\"])"
   ]
  },
  {
   "cell_type": "code",
   "execution_count": null,
   "id": "7b0855ca",
   "metadata": {},
   "outputs": [],
   "source": [
    "dataset[\"Siblings/Spouses Aboard\"].value_counts().sort_index()"
   ]
  },
  {
   "cell_type": "code",
   "execution_count": null,
   "id": "58239a35",
   "metadata": {},
   "outputs": [],
   "source": [
    "dataset['Parents/Children Aboard'].value_counts().sort_index()"
   ]
  },
  {
   "cell_type": "code",
   "execution_count": null,
   "id": "43990f9c",
   "metadata": {},
   "outputs": [],
   "source": [
    "dataset.Pclass.value_counts()"
   ]
  },
  {
   "cell_type": "code",
   "execution_count": null,
   "id": "c0ff6eaf",
   "metadata": {},
   "outputs": [],
   "source": [
    "dataset.Survived.value_counts() / dataset.shape[0]"
   ]
  },
  {
   "cell_type": "markdown",
   "id": "2aeec8b6",
   "metadata": {},
   "source": [
    "**Dataset preprocessing**"
   ]
  },
  {
   "cell_type": "code",
   "execution_count": null,
   "id": "2a1bcd11",
   "metadata": {},
   "outputs": [],
   "source": [
    "dataset.drop(columns=\"Name\", inplace=True)"
   ]
  },
  {
   "cell_type": "code",
   "execution_count": null,
   "id": "c5927e04",
   "metadata": {},
   "outputs": [],
   "source": [
    "dataset.Pclass = dataset.Pclass.astype(str)"
   ]
  },
  {
   "cell_type": "code",
   "execution_count": null,
   "id": "e3b599ff",
   "metadata": {},
   "outputs": [],
   "source": [
    "ohe = OneHotEncoder(sparse_output=False)\n",
    "# ohe.fit(dataset.select_dtypes('O'))\n",
    "# ohe.transform(dataset.select_dtypes('O'))\n",
    "ohe_data = ohe.fit_transform(dataset.select_dtypes(\"O\"))\n",
    "ohe_df = pd.DataFrame(data=ohe_data, columns=ohe.get_feature_names_out())"
   ]
  },
  {
   "cell_type": "code",
   "execution_count": null,
   "id": "213f159c",
   "metadata": {},
   "outputs": [],
   "source": [
    "dataset = pd.concat([dataset.select_dtypes(exclude=\"O\"), ohe_df], axis=1)"
   ]
  },
  {
   "cell_type": "code",
   "execution_count": null,
   "id": "2008189b",
   "metadata": {},
   "outputs": [],
   "source": [
    "X = dataset.drop(columns=\"Survived\")\n",
    "y = dataset.Survived\n",
    "X_train, X_test, y_train, y_test = train_test_split(\n",
    "    X, y, train_size=0.6, random_state=42\n",
    ")"
   ]
  },
  {
   "cell_type": "markdown",
   "id": "5b4f9977",
   "metadata": {},
   "source": [
    "## Regularization"
   ]
  },
  {
   "cell_type": "markdown",
   "id": "df5b2a04",
   "metadata": {},
   "source": [
    "**Regularization** techniques are modifications introduced in models aimed at **reducing overfitting**. The modification usually involves putting constraints on the coefficient's estimate or altering the training process with additional steps. Good regularization technique will decrease **variance** significantly, while not increasing **bias** or increasing it slightly.\n",
    "\n",
    "Examples of regularization techniques are:\n",
    "- L1 regularization (e.g. lasso regression)\n",
    "- L2 regualrization (e.g. ridge regression)\n",
    "- Elasticnet\n",
    "- cost/complexity pruning for decision trees\n",
    "- cost parameter for support vector machines\n",
    "- dropout for neural networks\n",
    "- early stopping\n"
   ]
  },
  {
   "cell_type": "markdown",
   "id": "eb44c82d",
   "metadata": {},
   "source": [
    "L1:$$min\\frac{1}{n}||Xw-y||^2+\\lambda||w||_1 \\quad \\left(\\lambda\\sum_i|w_i|\\right)$$\n",
    "L2:$$min\\frac{1}{n}||Xw-y||^2+\\lambda||w||_2^2 \\quad \\left(\\lambda\\sum_iw_i^2\\right)$$\n",
    "Elasticnet:\n",
    "$$min\\frac{1}{n}||Xw-y||^2+\\lambda\\left(\\alpha||w||_1+(1-\\alpha)||w||_2^2\\right) \\quad \\left(\\lambda\\left(\\alpha\\sum_i|w_i|+(1-\\alpha)\\sum_iw_i^2\\right)\\right)$$"
   ]
  },
  {
   "cell_type": "markdown",
   "id": "d69fa5fd",
   "metadata": {},
   "source": [
    "Logistic regression without regularization"
   ]
  },
  {
   "cell_type": "code",
   "execution_count": null,
   "id": "c3523685",
   "metadata": {},
   "outputs": [],
   "source": [
    "lr_titanic = LR(penalty=None, max_iter=1000)\n",
    "lr_titanic.fit(X_train, y_train)\n",
    "lr_no_reg_auc = roc_auc_score(y_test, lr_titanic.predict_proba(X_test)[:, 1])\n",
    "print(f\"AUC for logistic regression with no regularization: {lr_no_reg_auc:.3f}\")"
   ]
  },
  {
   "cell_type": "markdown",
   "id": "f7a19633",
   "metadata": {},
   "source": [
    "**Hyperparameter tuning**\n",
    "\n",
    "Tuning elements:\n",
    "- metric (F1-score, AUC)\n",
    "- hyperparameter(s) (cutoff threshold, regularization strength, number of trees)\n",
    "- technique (grid search, random search, bayesian search)\n",
    "\n",
    "Task: Find value of regularization strength (C) and type of regularization (L1/L2) that maximizes AUC on validation set"
   ]
  },
  {
   "cell_type": "markdown",
   "id": "d9bc9f7b",
   "metadata": {},
   "source": [
    "Logistic regression L1 regularization"
   ]
  },
  {
   "cell_type": "code",
   "execution_count": null,
   "id": "ce933976",
   "metadata": {},
   "outputs": [],
   "source": [
    "def model_auc(model, X_train, X_test, y_train, y_test):\n",
    "    trained_model = model.fit(X_train, y_train)\n",
    "    return roc_auc_score(y_test, trained_model.predict_proba(X_test)[:, 1])"
   ]
  },
  {
   "cell_type": "code",
   "execution_count": null,
   "id": "c532088e",
   "metadata": {},
   "outputs": [],
   "source": [
    "cs = np.linspace(\n",
    "    0.001, 0.2, 100\n",
    ")  # 100 values of C evenly distributed between 0.001 and 0.2"
   ]
  },
  {
   "cell_type": "code",
   "execution_count": null,
   "id": "a5324367",
   "metadata": {},
   "outputs": [],
   "source": [
    "LR_L1 = partial(LR, penalty=\"l1\", max_iter=1000, solver=\"liblinear\")\n",
    "aucs_l1 = [model_auc(LR_L1(C=c), X_train, X_test, y_train, y_test) for c in tqdm(cs)]"
   ]
  },
  {
   "cell_type": "code",
   "execution_count": null,
   "id": "466d220f",
   "metadata": {},
   "outputs": [],
   "source": [
    "p = sns.lineplot(x=cs, y=aucs_l1)\n",
    "p.set_xlabel(\"C\")\n",
    "p.set_ylabel(\"AUC\")\n",
    "p.set_title(\"Logistic regression with L1 penalty\");"
   ]
  },
  {
   "cell_type": "code",
   "execution_count": null,
   "id": "6ed6d4fc",
   "metadata": {},
   "outputs": [],
   "source": [
    "def lr_l1_coeffs_for_c(c):\n",
    "    return dict(zip(X_train.columns, LR_L1(C=c).fit(X_train, y_train).coef_[0]))"
   ]
  },
  {
   "cell_type": "code",
   "execution_count": null,
   "id": "fcfa6153",
   "metadata": {},
   "outputs": [],
   "source": [
    "lr_l1_coeffs_for_c(0.01)"
   ]
  },
  {
   "cell_type": "code",
   "execution_count": null,
   "id": "f92c3aaf",
   "metadata": {},
   "outputs": [],
   "source": [
    "lr_l1_coeffs_for_c(0.02)"
   ]
  },
  {
   "cell_type": "markdown",
   "id": "69157996",
   "metadata": {},
   "source": [
    "**Important note:** L1 penalty prevents overfitting but also serves as **feature selection** method"
   ]
  },
  {
   "cell_type": "markdown",
   "id": "3e2519d4",
   "metadata": {},
   "source": [
    "Logistic regression L2 regularization"
   ]
  },
  {
   "cell_type": "code",
   "execution_count": null,
   "id": "54d68e46",
   "metadata": {},
   "outputs": [],
   "source": [
    "aucs_l2 = [\n",
    "    model_auc(LR(C=c, max_iter=1000), X_train, X_test, y_train, y_test)\n",
    "    for c in tqdm(cs)\n",
    "]"
   ]
  },
  {
   "cell_type": "code",
   "execution_count": null,
   "id": "6470c04b",
   "metadata": {},
   "outputs": [],
   "source": [
    "p = sns.lineplot(x=cs, y=aucs_l2)\n",
    "p.set_xlabel(\"C\")\n",
    "p.set_ylabel(\"AUC\")\n",
    "p.set_title(\"Logistic regression with L2 penalty\");"
   ]
  },
  {
   "cell_type": "markdown",
   "id": "c375058a",
   "metadata": {},
   "source": [
    "Support Vector Classifier"
   ]
  },
  {
   "cell_type": "code",
   "execution_count": null,
   "id": "25d5946d",
   "metadata": {},
   "outputs": [],
   "source": [
    "cs_svc = np.linspace(0.01, 300, 100)\n",
    "aucs_svc = [\n",
    "    model_auc(SVC(C=c, probability=True), X_train, X_test, y_train, y_test)\n",
    "    for c in tqdm(cs_svc)\n",
    "]"
   ]
  },
  {
   "cell_type": "code",
   "execution_count": null,
   "id": "e0b2efeb",
   "metadata": {},
   "outputs": [],
   "source": [
    "p = sns.lineplot(x=cs_svc, y=aucs_svc)\n",
    "p.set_xlabel(\"C\")\n",
    "p.set_ylabel(\"AUC\")\n",
    "p.set_title(\"Support Vector Classifier\");"
   ]
  },
  {
   "cell_type": "markdown",
   "id": "69383718",
   "metadata": {},
   "source": [
    "**Summary for all models**"
   ]
  },
  {
   "cell_type": "code",
   "execution_count": null,
   "id": "1433b428",
   "metadata": {},
   "outputs": [],
   "source": [
    "print(f\"\"\"Logistic regression (no penalty): {lr_no_reg_auc:.4f} AUC\n",
    "Logistic regression (L1): {max(aucs_l1):.4f} AUC for C={cs[np.argmax(aucs_l1)]:.4f}\n",
    "Logistic regression (L2): {max(aucs_l2):.4f} AUC for C={cs[np.argmax(aucs_l2)]:.4f}\n",
    "SVC: {max(aucs_svc):.4f} AUC for C={cs_svc[np.argmax(aucs_svc)]:.4f}\"\"\")"
   ]
  },
  {
   "cell_type": "code",
   "execution_count": null,
   "id": "89647482",
   "metadata": {},
   "outputs": [],
   "source": [
    "round(roc_auc_score(y_train, lr_titanic.predict_proba(X_train)[:, 1]), 4)"
   ]
  },
  {
   "cell_type": "markdown",
   "id": "bcf35d51",
   "metadata": {},
   "source": [
    "## Cross-validation"
   ]
  },
  {
   "cell_type": "markdown",
   "id": "fb5fe87c",
   "metadata": {},
   "source": [
    "<img src=\"https://scikit-learn.org/stable/_images/grid_search_cross_validation.png\" width=75%>"
   ]
  },
  {
   "cell_type": "markdown",
   "id": "7f7eee38",
   "metadata": {},
   "source": [
    "Advantages:\n",
    "- reduces estimation error connected with random split of dataset\n",
    "- provides robust scores in case of overfitted model\n",
    "- no need to split data into training and validation subsets explicitly\n",
    "\n",
    "Disadvantages:\n",
    "- expensive computationally (training _k_ models instead of 1)\n",
    "- introduces another hyperparameter (_k_)\n",
    "- more complex training and evaluation pipeline"
   ]
  },
  {
   "cell_type": "markdown",
   "id": "37e81b1f",
   "metadata": {},
   "source": [
    "More information on [cross-validation](https://scikit-learn.org/stable/modules/cross_validation.html) page in scikit-learn documentation."
   ]
  },
  {
   "cell_type": "code",
   "execution_count": null,
   "id": "3b2b3314",
   "metadata": {},
   "outputs": [],
   "source": [
    "def auc_scorer(model, X, y):\n",
    "    return roc_auc_score(y, model.predict_proba(X)[:, 1])"
   ]
  },
  {
   "cell_type": "code",
   "execution_count": null,
   "id": "f89ddf5f",
   "metadata": {},
   "outputs": [],
   "source": [
    "folds = 3\n",
    "scores = cross_val_score(\n",
    "    LR(max_iter=1000, random_state=42), X, y, cv=folds, scoring=auc_scorer\n",
    ")  # scoring='roc_auc'\n",
    "print(scores)\n",
    "print(f\"Mean AUC score: {np.mean(scores):.3f}\")"
   ]
  },
  {
   "cell_type": "code",
   "execution_count": null,
   "id": "8fdc5528",
   "metadata": {},
   "outputs": [],
   "source": [
    "aucs_mean = np.array([])\n",
    "aucs_std = np.array([])\n",
    "cs_svc_xval = range(1, 101)\n",
    "for c in tqdm(cs_svc_xval):\n",
    "    xval_arr = cross_val_score(\n",
    "        SVC(C=c, probability=True, random_state=42), X, y, cv=folds, scoring=auc_scorer\n",
    "    )\n",
    "    aucs_mean = np.append(aucs_mean, np.mean(xval_arr))\n",
    "    aucs_std = np.append(aucs_std, np.std(xval_arr))"
   ]
  },
  {
   "cell_type": "code",
   "execution_count": null,
   "id": "94422a1b",
   "metadata": {},
   "outputs": [],
   "source": [
    "plt.plot(cs_svc_xval, aucs_mean, \"r\")\n",
    "plt.fill_between(\n",
    "    cs_svc_xval, aucs_mean - aucs_std, aucs_mean + aucs_std, color=\"steelblue\"\n",
    ")\n",
    "best_c = cs_svc_xval[np.argmax(aucs_mean)]\n",
    "best_mean_auc = np.max(aucs_mean)\n",
    "plt.plot(best_c, best_mean_auc, \"bo\")\n",
    "plt.annotate(\n",
    "    f\"AUC: {best_mean_auc:.3f} \\nC: {best_c}\",\n",
    "    (best_c, best_mean_auc * 0.98),\n",
    "    weight=\"bold\",\n",
    ")\n",
    "plt.xlabel(\"C\")\n",
    "plt.ylabel(\"Mean AUC ± 1 Std\")\n",
    "plt.title(f\"Support Vector Classifier - {folds}-fold Xval\");"
   ]
  },
  {
   "cell_type": "markdown",
   "id": "c073718d",
   "metadata": {},
   "source": [
    "Grid search hyperparameter tuning + cross-validation = [GridSearchCV](https://scikit-learn.org/stable/modules/generated/sklearn.model_selection.GridSearchCV.html)"
   ]
  },
  {
   "cell_type": "markdown",
   "id": "eab69066",
   "metadata": {},
   "source": [
    "### Exercices"
   ]
  },
  {
   "cell_type": "markdown",
   "id": "f7a69fc3",
   "metadata": {},
   "source": [
    "Write your own \"scorer\" function returning F1-score (with 0.5 cutoff threshold)"
   ]
  },
  {
   "cell_type": "code",
   "execution_count": null,
   "id": "8ee7db59",
   "metadata": {},
   "outputs": [],
   "source": []
  },
  {
   "cell_type": "markdown",
   "id": "5cd63852",
   "metadata": {},
   "source": [
    "Perform hyperparameter tuning for logistic regression with **elasticnet** regularization. Tune value of **L1 ratio** hyperparameter. Use prepared data for Titanic dataset (`X` and `y` Dataframes).\n",
    "\n",
    "Tuning specification:\n",
    "- set regularization strength argument to 0.1\n",
    "- perform grid search of 50 evenly distributed values on whole range of L1 ratio\n",
    "- use F1-score as target metrics\n",
    "- use 3-fold cross-validation to estimate the metric"
   ]
  },
  {
   "cell_type": "code",
   "execution_count": null,
   "id": "e97ebbc4",
   "metadata": {},
   "outputs": [],
   "source": []
  },
  {
   "cell_type": "markdown",
   "id": "cd584e4a",
   "metadata": {},
   "source": [
    "Plot the results on lineplot with L1 ratio on x-axis and mean F1 on y-axis. What is the optimal value of L1 ratio and mean F1-score corresponding to it?"
   ]
  },
  {
   "cell_type": "code",
   "execution_count": null,
   "id": "b51b3587",
   "metadata": {},
   "outputs": [],
   "source": []
  },
  {
   "cell_type": "markdown",
   "id": "66660d26",
   "metadata": {},
   "source": [
    "### Homework (5pts, time until laboratory exam)"
   ]
  },
  {
   "cell_type": "markdown",
   "id": "638a9f80",
   "metadata": {},
   "source": [
    "Perform hyperparameter tuning on prepared **Titanic dataset** using:\n",
    "1. `GridSearchCV`\n",
    "2. `RandomizedSearchCV`\n",
    "\n",
    "Tune hyperparameters of `LogisticRegression` as follows:\n",
    "- target metric: F1-score\n",
    "- hyperparameters: `penalty` (either L1 or L2) and `C` between 0.01 and 10\n",
    "- 8-fold CV\n",
    "\n",
    "For both grid and randomized search check 200 combinations of hyperparameters. Pick the right `solver` and `max_iter` parameters. Note that boundaries for C hyperparameter must be the same for both approaches, but the implementation to enforce 100 combinations will be different.\n",
    "\n",
    "Print best hyperparameters (`C` and `penalty`) for both `GridSearchCV` and`RandomizedSearchCV`. Are they similar?\n",
    "\n",
    "Send the Jupyter notebook (with output) exported in `.html` format on email lkrain@sgh.waw.pl."
   ]
  }
 ],
 "metadata": {
  "kernelspec": {
   "display_name": "Python 3 (ipykernel)",
   "language": "python",
   "name": "python3"
  },
  "language_info": {
   "codemirror_mode": {
    "name": "ipython",
    "version": 3
   },
   "file_extension": ".py",
   "mimetype": "text/x-python",
   "name": "python",
   "nbconvert_exporter": "python",
   "pygments_lexer": "ipython3",
   "version": "3.11.4"
  }
 },
 "nbformat": 4,
 "nbformat_minor": 5
}
